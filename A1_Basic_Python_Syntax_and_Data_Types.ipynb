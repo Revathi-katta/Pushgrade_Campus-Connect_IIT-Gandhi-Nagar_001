{
  "nbformat": 4,
  "nbformat_minor": 0,
  "metadata": {
    "colab": {
      "provenance": []
    },
    "kernelspec": {
      "name": "python3",
      "display_name": "Python 3"
    },
    "language_info": {
      "name": "python"
    }
  },
  "cells": [
    {
      "cell_type": "markdown",
      "source": [
        "Assignment 1: Basic Python Syntax and Data Types"
      ],
      "metadata": {
        "id": "ntJESxMrTAEx"
      }
    },
    {
      "cell_type": "code",
      "execution_count": null,
      "metadata": {
        "id": "kQj1_wg9S5oB"
      },
      "outputs": [],
      "source": [
        "x=5    #int\n",
        "y=5.2  #float\n",
        "z=2+3j  #complex\n",
        "\n",
        "a=x+y   #adding two variables\n",
        "b=x+5   #adding a value to a value assigned variable\n",
        "\n",
        "c=\"apple\"   #string\n",
        "l=['apple', 1, '*']     #list-can contain various data types\n",
        "arr=['apple', 'banana', 'cherry']  #array-can contain only single data type\n",
        "tup=(10, 11, 12)    #simialar to list but immutable\n",
        "marks={'eng':98, 'maths':99, 'physics':95}      #dict, mutable\n",
        "is_verified=True    #boolean variable"
      ]
    },
    {
      "cell_type": "code",
      "source": [
        "l.insert(1, 5)     #mutable, inserting 1 at position 1\n",
        "print(l)"
      ],
      "metadata": {
        "colab": {
          "base_uri": "https://localhost:8080/"
        },
        "id": "QyWB-mswVFnV",
        "outputId": "657e99bc-466d-4339-e9cd-8cd636d90318"
      },
      "execution_count": null,
      "outputs": [
        {
          "output_type": "stream",
          "name": "stdout",
          "text": [
            "['apple', 5, 1, '*']\n"
          ]
        }
      ]
    },
    {
      "cell_type": "code",
      "source": [
        "tup.append(5)   #immutable, append insert such keywords are not defined here\n",
        "print(tup)"
      ],
      "metadata": {
        "colab": {
          "base_uri": "https://localhost:8080/",
          "height": 158
        },
        "id": "_9LgIKw3VY7S",
        "outputId": "440cbf6f-42e5-4d31-816e-94c679ca35d7"
      },
      "execution_count": null,
      "outputs": [
        {
          "output_type": "error",
          "ename": "AttributeError",
          "evalue": "'tuple' object has no attribute 'append'",
          "traceback": [
            "\u001b[0;31m---------------------------------------------------------------------------\u001b[0m",
            "\u001b[0;31mAttributeError\u001b[0m                            Traceback (most recent call last)",
            "\u001b[0;32m<ipython-input-6-307aaec5d89c>\u001b[0m in \u001b[0;36m<cell line: 0>\u001b[0;34m()\u001b[0m\n\u001b[0;32m----> 1\u001b[0;31m \u001b[0mtup\u001b[0m\u001b[0;34m.\u001b[0m\u001b[0mappend\u001b[0m\u001b[0;34m(\u001b[0m\u001b[0;36m5\u001b[0m\u001b[0;34m)\u001b[0m   \u001b[0;31m#immutable\u001b[0m\u001b[0;34m\u001b[0m\u001b[0;34m\u001b[0m\u001b[0m\n\u001b[0m\u001b[1;32m      2\u001b[0m \u001b[0mprint\u001b[0m\u001b[0;34m(\u001b[0m\u001b[0mtup\u001b[0m\u001b[0;34m)\u001b[0m\u001b[0;34m\u001b[0m\u001b[0;34m\u001b[0m\u001b[0m\n",
            "\u001b[0;31mAttributeError\u001b[0m: 'tuple' object has no attribute 'append'"
          ]
        }
      ]
    },
    {
      "cell_type": "code",
      "source": [
        "#using if statement and boolean\n",
        "if is_verified :\n",
        "    marks['eng']=85     #mutable, updating eng marks\n",
        "    print(marks)"
      ],
      "metadata": {
        "colab": {
          "base_uri": "https://localhost:8080/"
        },
        "id": "WwdnvO_ZV8Ey",
        "outputId": "c972d0e2-b531-49a7-abbe-253c0e195195"
      },
      "execution_count": null,
      "outputs": [
        {
          "output_type": "stream",
          "name": "stdout",
          "text": [
            "{'eng': 85, 'maths': 99, 'physics': 95}\n"
          ]
        }
      ]
    }
  ]
}