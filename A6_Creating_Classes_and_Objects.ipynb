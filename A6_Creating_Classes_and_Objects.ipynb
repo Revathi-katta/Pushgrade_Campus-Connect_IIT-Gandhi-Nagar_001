{
  "nbformat": 4,
  "nbformat_minor": 0,
  "metadata": {
    "colab": {
      "provenance": []
    },
    "kernelspec": {
      "name": "python3",
      "display_name": "Python 3"
    },
    "language_info": {
      "name": "python"
    }
  },
  "cells": [
    {
      "cell_type": "markdown",
      "source": [
        "\n",
        "Assignment 6: Creating Classes and Objects\n",
        "\n"
      ],
      "metadata": {
        "id": "ntJESxMrTAEx"
      }
    },
    {
      "cell_type": "code",
      "source": [
        "class Book:\n",
        "    def __init__(self, title, author, pages):\n",
        "        self.title = title\n",
        "        self.author = author\n",
        "        self.pages = pages\n",
        "        self.is_borrowed = False\n",
        "\n",
        "    def borrow(self):\n",
        "        if self.is_borrowed :\n",
        "            print(f\"'{self.title}' is already borrowed.\")\n",
        "        else :\n",
        "            self.is_borrowed = True\n",
        "            print(f\"You have borrowed '{self.title}'.\")\n",
        "\n",
        "    def return_book(self):\n",
        "        if not self.is_borrowed :\n",
        "            print(f\"'{self.title}' is not borrowed.\")\n",
        "        else:\n",
        "            self.is_borrowed = False\n",
        "            print(f\"You have returned '{self.title}'.\")\n",
        "\n",
        "    def get_info(self):\n",
        "        print(f\"Title: {self.title}\")\n",
        "        print(f\"Author: {self.author}\")\n",
        "        print(f\"Pages: {self.pages}\")\n",
        "        print(f\"Status: {'Borrowed' if self.is_borrowed else 'Available'}\")"
      ],
      "metadata": {
        "id": "VeyGZYW9ddt0"
      },
      "execution_count": 8,
      "outputs": []
    },
    {
      "cell_type": "code",
      "source": [
        "book1 = Book(\"The Alchemist\", \"Paulo Coelho\", 197)\n",
        "book2 = Book(\"1984\", \"George Orwell\", 328)\n",
        "\n",
        "book1.get_info()\n",
        "print()\n",
        "book2.get_info()\n",
        "print('\\n')\n",
        "\n",
        "book1.borrow()\n",
        "book2.borrow()\n",
        "print()\n",
        "\n",
        "book1.return_book()\n",
        "book2.return_book()\n",
        "print()"
      ],
      "metadata": {
        "colab": {
          "base_uri": "https://localhost:8080/"
        },
        "id": "P428b5rCfvj8",
        "outputId": "f3b3dcdd-05b0-495f-f8b6-3c7195bc93bc"
      },
      "execution_count": 9,
      "outputs": [
        {
          "output_type": "stream",
          "name": "stdout",
          "text": [
            "Title: The Alchemist\n",
            "Author: Paulo Coelho\n",
            "Pages: 197\n",
            "Status: Available\n",
            "\n",
            "Title: 1984\n",
            "Author: George Orwell\n",
            "Pages: 328\n",
            "Status: Available\n",
            "\n",
            "\n",
            "You have borrowed 'The Alchemist'.\n",
            "You have borrowed '1984'.\n",
            "\n",
            "You have returned 'The Alchemist'.\n",
            "You have returned '1984'.\n",
            "\n"
          ]
        }
      ]
    }
  ]
}